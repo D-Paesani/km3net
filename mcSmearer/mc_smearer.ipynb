{
 "cells": [
  {
   "cell_type": "code",
   "execution_count": 34,
   "metadata": {},
   "outputs": [],
   "source": [
    "import numpy as np\n",
    "import matplotlib.pyplot as plt\n",
    "\n",
    "def getsmear(dd):\n",
    "    vv = 0\n",
    "    for ii, iii in dd.items():\n",
    "        \n",
    "        if iii[0] == 'constant': \n",
    "            vv += iii[1]\n",
    "        \n",
    "        elif iii[0] in ['normal', 'uniform']:\n",
    "            vv += getattr(np.random, iii[0])(iii[1], iii[2])\n",
    "            \n",
    "        elif iii[0] in ['choice']:     #per i batch di du \n",
    "            vv += np.random.choice(iii[1])\n",
    "                        \n",
    "        else: \n",
    "            print('check your spelling!!!!!')\n",
    "    \n",
    "    return vv\n",
    "    \n"
   ]
  },
  {
   "cell_type": "code",
   "execution_count": 35,
   "metadata": {},
   "outputs": [
    {
     "data": {
      "image/png": "[encoded data removed]",
      "text/plain": [
       "<Figure size 640x480 with 1 Axes>"
      ]
     },
     "metadata": {},
     "output_type": "display_data"
    }
   ],
   "source": [
    "smeardict = {\n",
    "    \n",
    "    't0'            : ['constant',  100],\n",
    "    'retuning'      : ['normal',    0, 1],\n",
    "    '40K'           : ['normal',    0, 5],\n",
    "    'altracosa'     : ['uniform',   -2, 2],\n",
    "\n",
    "}\n",
    "\n",
    "values = np.array([getsmear(smeardict) for _ in range(10000)])\n",
    "\n",
    "_ = plt.hist(values, range=[0,200], bins=100)\n"
   ]
  },
  {
   "cell_type": "code",
   "execution_count": null,
   "metadata": {},
   "outputs": [],
   "source": []
  },
  {
   "cell_type": "code",
   "execution_count": 36,
   "metadata": {},
   "outputs": [
    {
     "name": "stdout",
     "output_type": "stream",
     "text": [
      "(115, 18, 31)\n"
     ]
    },
    {
     "data": {
      "text/plain": [
       "1.887184323050146"
      ]
     },
     "execution_count": 36,
     "metadata": {},
     "output_type": "execute_result"
    }
   ],
   "source": [
    "smearing_perdu =  {'basemodule':['uniform',-2,2], 'processo3_persito':['choice',[-1,2,-1.5]], 'sistematicaProc3per3siti': ['choice', [1,-1,-2]]}\n",
    "smearing_perdom = {'processo3':['uniform',-1,1] }\n",
    "smearing_perpmt = {'K40': ['normal',0,3]}\n",
    "\n",
    "ndu = 115\n",
    "ndom = 18\n",
    "npmt = 31\n",
    "\n",
    "smear_du_dom_pmt = np.zeros((ndu, ndom, npmt))\n",
    "\n",
    "for idu in range(ndu):\n",
    "    \n",
    "    smear_du = getsmear(smearing_perdu)\n",
    "    \n",
    "    for idom in range(ndom):\n",
    "        \n",
    "        smear_dom = getsmear(smearing_perdom)\n",
    "        \n",
    "        for ipmt in range(npmt):\n",
    "            \n",
    "            smear_du_dom_pmt[idu,idom,ipmt] += smear_du + smear_dom + getsmear(smearing_perpmt)\n",
    "\n",
    "\n",
    "\n",
    "print(smear_du_dom_pmt.shape)\n",
    "\n",
    "\n",
    "du, dom, pmt = 9, 4, 15\n",
    "\n",
    "smear_du_dom_pmt[du,dom,pmt]"
   ]
  },
  {
   "cell_type": "code",
   "execution_count": null,
   "metadata": {},
   "outputs": [],
   "source": []
  }
 ],
 "metadata": {
  "kernelspec": {
   "display_name": "Python 3",
   "language": "python",
   "name": "python3"
  },
  "language_info": {
   "codemirror_mode": {
    "name": "ipython",
    "version": 3
   },
   "file_extension": ".py",
   "mimetype": "text/x-python",
   "name": "python",
   "nbconvert_exporter": "python",
   "pygments_lexer": "ipython3",
   "version": "3.10.13"
  }
 },
 "nbformat": 4,
 "nbformat_minor": 2
}
