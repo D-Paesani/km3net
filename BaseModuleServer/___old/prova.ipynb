{
 "cells": [
  {
   "cell_type": "code",
   "execution_count": 96,
   "metadata": {},
   "outputs": [],
   "source": [
    "import jsc\n",
    "import re\n",
    "import pandas as pd\n",
    "\n",
    "\n"
   ]
  },
  {
   "cell_type": "code",
   "execution_count": 97,
   "metadata": {},
   "outputs": [
    {
     "data": {
      "text/plain": [
       "'C'"
      ]
     },
     "execution_count": 97,
     "metadata": {},
     "output_type": "execute_result"
    }
   ],
   "source": [
    "sss = jsc.cmd_exec(14, 'SENSOR_VALUES_GETALL')\n",
    "\n",
    "param = 'TBOARD'\n",
    "ss = re.search(F'MON_{param}_VALUE = (.*)', sss).group(1).split(' ')\n",
    "adc = int(ss[0])\n",
    "val = float(ss[1].split('(')[1])\n",
    "str(ss[2]).replace(')', '')"
   ]
  },
  {
   "cell_type": "code",
   "execution_count": 110,
   "metadata": {},
   "outputs": [
    {
     "data": {
      "text/html": [
       "<div>\n",
       "<style scoped>\n",
       "    .dataframe tbody tr th:only-of-type {\n",
       "        vertical-align: middle;\n",
       "    }\n",
       "\n",
       "    .dataframe tbody tr th {\n",
       "        vertical-align: top;\n",
       "    }\n",
       "\n",
       "    .dataframe thead th {\n",
       "        text-align: right;\n",
       "    }\n",
       "</style>\n",
       "<table border=\"1\" class=\"dataframe\">\n",
       "  <thead>\n",
       "    <tr style=\"text-align: right;\">\n",
       "      <th></th>\n",
       "      <th>du</th>\n",
       "      <th>SWITCHNUM</th>\n",
       "      <th>SWITCHSTATE</th>\n",
       "    </tr>\n",
       "  </thead>\n",
       "  <tbody>\n",
       "    <tr>\n",
       "      <th></th>\n",
       "      <td>12</td>\n",
       "      <td>ciao</td>\n",
       "      <td>cùazzo</td>\n",
       "    </tr>\n",
       "    <tr>\n",
       "      <th></th>\n",
       "      <td>12</td>\n",
       "      <td>SWITCH_VEOC_DIRECT</td>\n",
       "      <td>CLOSED</td>\n",
       "    </tr>\n",
       "  </tbody>\n",
       "</table>\n",
       "</div>"
      ],
      "text/plain": [
       "  du           SWITCHNUM SWITCHSTATE\n",
       "  12                ciao      cùazzo\n",
       "  12  SWITCH_VEOC_DIRECT      CLOSED"
      ]
     },
     "execution_count": 110,
     "metadata": {},
     "output_type": "execute_result"
    }
   ],
   "source": [
    "aa = jsc.write_switches(12,12,1)\n",
    "bb = {'du': 12, 'SWITCHNUM': 'ciao', 'SWITCHSTATE': 'cùazzo'}\n",
    "dd = pd.DataFrame()\n",
    "dd = pd.concat([dd, pd.DataFrame(bb, columns=[ii for ii in bb], index=[\"\"])])\n",
    "dd = pd.concat([dd, pd.DataFrame(aa, columns=[ii for ii in bb], index=[\"\"])])\n",
    "\n",
    "dd\n"
   ]
  },
  {
   "cell_type": "code",
   "execution_count": 99,
   "metadata": {},
   "outputs": [
    {
     "data": {
      "text/plain": [
       "{'du': 12, 'SWITCHNUM': 'SWITCH_VEOC_DIRECT', 'SWITCHSTATE': 'CLOSED'}"
      ]
     },
     "execution_count": 99,
     "metadata": {},
     "output_type": "execute_result"
    }
   ],
   "source": [
    "bb.update(aa)\n",
    "bb"
   ]
  },
  {
   "cell_type": "code",
   "execution_count": null,
   "metadata": {},
   "outputs": [],
   "source": []
  }
 ],
 "metadata": {
  "kernelspec": {
   "display_name": "Python 3",
   "language": "python",
   "name": "python3"
  },
  "language_info": {
   "codemirror_mode": {
    "name": "ipython",
    "version": 3
   },
   "file_extension": ".py",
   "mimetype": "text/x-python",
   "name": "python",
   "nbconvert_exporter": "python",
   "pygments_lexer": "ipython3",
   "version": "3.10.13"
  }
 },
 "nbformat": 4,
 "nbformat_minor": 2
}
